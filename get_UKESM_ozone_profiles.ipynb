{
 "cells": [
  {
   "cell_type": "markdown",
   "metadata": {},
   "source": [
    "### Start dask cluster"
   ]
  },
  {
   "cell_type": "code",
   "execution_count": 18,
   "metadata": {},
   "outputs": [
    {
     "data": {
      "text/html": [
       "<table style=\"border: 2px solid white;\">\n",
       "<tr>\n",
       "<td style=\"vertical-align: top; border: 0px solid white\">\n",
       "<h3 style=\"text-align: left;\">Client</h3>\n",
       "<ul style=\"text-align: left; list-style: none; margin: 0; padding: 0;\">\n",
       "  <li><b>Scheduler: </b>tcp://10.32.5.46:44639</li>\n",
       "  <li><b>Dashboard: </b><a href='/user/0000-0002-8701-4506/proxy/8787/status' target='_blank'>/user/0000-0002-8701-4506/proxy/8787/status</a>\n",
       "</ul>\n",
       "</td>\n",
       "<td style=\"vertical-align: top; border: 0px solid white\">\n",
       "<h3 style=\"text-align: left;\">Cluster</h3>\n",
       "<ul style=\"text-align: left; list-style:none; margin: 0; padding: 0;\">\n",
       "  <li><b>Workers: </b>4</li>\n",
       "  <li><b>Cores: </b>8</li>\n",
       "  <li><b>Memory: </b>46.00 GB</li>\n",
       "</ul>\n",
       "</td>\n",
       "</tr>\n",
       "</table>"
      ],
      "text/plain": [
       "<Client: 'tcp://10.32.5.46:44639' processes=4 threads=8, memory=46.00 GB>"
      ]
     },
     "execution_count": 18,
     "metadata": {},
     "output_type": "execute_result"
    }
   ],
   "source": [
    "from dask.distributed import Client\n",
    "\n",
    "client = Client(\"tcp://10.32.5.46:44639\")\n",
    "client"
   ]
  },
  {
   "cell_type": "markdown",
   "metadata": {},
   "source": [
    "### Import required packages"
   ]
  },
  {
   "cell_type": "code",
   "execution_count": 19,
   "metadata": {},
   "outputs": [],
   "source": [
    "import intake\n",
    "import xarray as xr\n",
    "from matplotlib import pyplot as plt\n",
    "import numpy as np\n",
    "import xgcm\n",
    "import dask\n",
    "import pprint\n",
    "import gsw\n",
    "import xesmf as xe\n",
    "from xhistogram.xarray import histogram\n",
    "from datetime import datetime\n",
    "\n",
    "# local file for CMIP6 preprocessing\n",
    "import preprocessing"
   ]
  },
  {
   "cell_type": "markdown",
   "metadata": {},
   "source": [
    "### Locate UKESM1 ozone data"
   ]
  },
  {
   "cell_type": "code",
   "execution_count": 20,
   "metadata": {},
   "outputs": [
    {
     "data": {
      "text/html": [
       "<div>\n",
       "<style scoped>\n",
       "    .dataframe tbody tr th:only-of-type {\n",
       "        vertical-align: middle;\n",
       "    }\n",
       "\n",
       "    .dataframe tbody tr th {\n",
       "        vertical-align: top;\n",
       "    }\n",
       "\n",
       "    .dataframe thead th {\n",
       "        text-align: right;\n",
       "    }\n",
       "</style>\n",
       "<table border=\"1\" class=\"dataframe\">\n",
       "  <thead>\n",
       "    <tr style=\"text-align: right;\">\n",
       "      <th></th>\n",
       "      <th>activity_id</th>\n",
       "      <th>institution_id</th>\n",
       "      <th>source_id</th>\n",
       "      <th>experiment_id</th>\n",
       "      <th>member_id</th>\n",
       "      <th>table_id</th>\n",
       "      <th>variable_id</th>\n",
       "      <th>grid_label</th>\n",
       "      <th>zstore</th>\n",
       "      <th>dcpp_init_year</th>\n",
       "    </tr>\n",
       "  </thead>\n",
       "  <tbody>\n",
       "    <tr>\n",
       "      <th>0</th>\n",
       "      <td>CMIP</td>\n",
       "      <td>MOHC</td>\n",
       "      <td>UKESM1-0-LL</td>\n",
       "      <td>historical</td>\n",
       "      <td>r1i1p1f2</td>\n",
       "      <td>Amon</td>\n",
       "      <td>o3</td>\n",
       "      <td>gn</td>\n",
       "      <td>gs://cmip6/CMIP/MOHC/UKESM1-0-LL/historical/r1...</td>\n",
       "      <td>NaN</td>\n",
       "    </tr>\n",
       "    <tr>\n",
       "      <th>1</th>\n",
       "      <td>ScenarioMIP</td>\n",
       "      <td>MOHC</td>\n",
       "      <td>UKESM1-0-LL</td>\n",
       "      <td>ssp126</td>\n",
       "      <td>r1i1p1f2</td>\n",
       "      <td>Amon</td>\n",
       "      <td>o3</td>\n",
       "      <td>gn</td>\n",
       "      <td>gs://cmip6/ScenarioMIP/MOHC/UKESM1-0-LL/ssp126...</td>\n",
       "      <td>NaN</td>\n",
       "    </tr>\n",
       "    <tr>\n",
       "      <th>2</th>\n",
       "      <td>ScenarioMIP</td>\n",
       "      <td>MOHC</td>\n",
       "      <td>UKESM1-0-LL</td>\n",
       "      <td>ssp585</td>\n",
       "      <td>r1i1p1f2</td>\n",
       "      <td>Amon</td>\n",
       "      <td>o3</td>\n",
       "      <td>gn</td>\n",
       "      <td>gs://cmip6/ScenarioMIP/MOHC/UKESM1-0-LL/ssp585...</td>\n",
       "      <td>NaN</td>\n",
       "    </tr>\n",
       "  </tbody>\n",
       "</table>\n",
       "</div>"
      ],
      "text/plain": [
       "   activity_id institution_id    source_id experiment_id member_id table_id  \\\n",
       "0         CMIP           MOHC  UKESM1-0-LL    historical  r1i1p1f2     Amon   \n",
       "1  ScenarioMIP           MOHC  UKESM1-0-LL        ssp126  r1i1p1f2     Amon   \n",
       "2  ScenarioMIP           MOHC  UKESM1-0-LL        ssp585  r1i1p1f2     Amon   \n",
       "\n",
       "  variable_id grid_label                                             zstore  \\\n",
       "0          o3         gn  gs://cmip6/CMIP/MOHC/UKESM1-0-LL/historical/r1...   \n",
       "1          o3         gn  gs://cmip6/ScenarioMIP/MOHC/UKESM1-0-LL/ssp126...   \n",
       "2          o3         gn  gs://cmip6/ScenarioMIP/MOHC/UKESM1-0-LL/ssp585...   \n",
       "\n",
       "   dcpp_init_year  \n",
       "0             NaN  \n",
       "1             NaN  \n",
       "2             NaN  "
      ]
     },
     "execution_count": 20,
     "metadata": {},
     "output_type": "execute_result"
    }
   ],
   "source": [
    "col_url='https://raw.githubusercontent.com/NCAR/intake-esm-datastore/master/catalogs/pangeo-cmip6.json'\n",
    "col = intake.open_esm_datastore(col_url)\n",
    "cat = col.search(institution_id='MOHC',\n",
    "                 source_id='UKESM1-0-LL',\n",
    "                 table_id='Amon',\n",
    "                 experiment_id=['historical','ssp126','ssp585'],\n",
    "                 variable_id=['o3'],\n",
    "                 member_id=['r1i1p1f2'],\n",
    "                 grid_label='gn')\n",
    "cat.df"
   ]
  },
  {
   "cell_type": "code",
   "execution_count": 21,
   "metadata": {},
   "outputs": [
    {
     "name": "stdout",
     "output_type": "stream",
     "text": [
      "Progress: |███████████████████████████████████████████████████████████████████████████████| 100.0% \n",
      "\n",
      "--> The keys in the returned dictionary of datasets are constructed as follows:\n",
      "\t'activity_id.institution_id.source_id.experiment_id.table_id.grid_label'\n",
      "             \n",
      "--> There are 3 group(s)\n"
     ]
    },
    {
     "data": {
      "text/plain": [
       "dict_keys(['ScenarioMIP.MOHC.UKESM1-0-LL.ssp126.Amon.gn', 'CMIP.MOHC.UKESM1-0-LL.historical.Amon.gn', 'ScenarioMIP.MOHC.UKESM1-0-LL.ssp585.Amon.gn'])"
      ]
     },
     "execution_count": 21,
     "metadata": {},
     "output_type": "execute_result"
    }
   ],
   "source": [
    "dset_dict = cat.to_dataset_dict(zarr_kwargs={'consolidated': True, 'decode_times': True},\n",
    "                                cdf_kwargs={'chunks': {}, 'decode_times': True})\n",
    "dset_dict.keys()"
   ]
  },
  {
   "cell_type": "markdown",
   "metadata": {},
   "source": [
    "### Preprocess the historical, ssp126, and ssp585 datasets"
   ]
  },
  {
   "cell_type": "code",
   "execution_count": 22,
   "metadata": {},
   "outputs": [],
   "source": [
    "historical = dset_dict['CMIP.MOHC.UKESM1-0-LL.historical.Amon.gn']\n",
    "ssp126 = dset_dict['ScenarioMIP.MOHC.UKESM1-0-LL.ssp126.Amon.gn']\n",
    "ssp585 = dset_dict['ScenarioMIP.MOHC.UKESM1-0-LL.ssp585.Amon.gn']\n",
    "\n",
    "historical = preprocessing.combined_preprocessing(historical)\n",
    "ssp126 = preprocessing.combined_preprocessing(ssp126)\n",
    "ssp585 = preprocessing.combined_preprocessing(ssp585)"
   ]
  },
  {
   "cell_type": "markdown",
   "metadata": {},
   "source": [
    "### Drop the coordinates that are not needed"
   ]
  },
  {
   "cell_type": "code",
   "execution_count": 23,
   "metadata": {},
   "outputs": [],
   "source": [
    "historical = historical.drop(('lon_bnds','time_bounds','lat_bnds','member_id','bnds'))\n",
    "ssp126 = ssp126.drop(('lon_bnds','time_bounds','lat_bnds','member_id','bnds'))\n",
    "ssp585 = ssp585.drop(('lon_bnds','time_bounds','lat_bnds','member_id','bnds'))"
   ]
  },
  {
   "cell_type": "markdown",
   "metadata": {},
   "source": [
    "### Calculate annual mean profiles"
   ]
  },
  {
   "cell_type": "code",
   "execution_count": 24,
   "metadata": {},
   "outputs": [],
   "source": [
    "historical = historical.groupby('time.year').mean('time')\n",
    "ssp126 = ssp126.groupby('time.year').mean('time')\n",
    "ssp585 = ssp585.groupby('time.year').mean('time')"
   ]
  },
  {
   "cell_type": "markdown",
   "metadata": {},
   "source": [
    "### Slice one decade from each experiment"
   ]
  },
  {
   "cell_type": "code",
   "execution_count": 25,
   "metadata": {},
   "outputs": [],
   "source": [
    "historical = historical.sel(year=slice(2004,2014))\n",
    "ssp126 = ssp126.sel(year=slice(2090,2100))\n",
    "ssp585 = ssp585.sel(year=slice(2090,2100))\n",
    "\n",
    "historical = historical.squeeze()\n",
    "ssp126 = ssp126.squeeze()\n",
    "ssp585 = ssp585.squeeze()\n",
    "\n",
    "# scale to get units in ppmv ()\n",
    "historical['o3'] = historical.o3*1e6\n",
    "ssp126['o3'] = ssp126.o3*1e6\n",
    "ssp585['o3'] = ssp585.o3*1e6"
   ]
  },
  {
   "cell_type": "markdown",
   "metadata": {},
   "source": [
    "### Prepare attributes for combined NetCDF file"
   ]
  },
  {
   "cell_type": "code",
   "execution_count": 26,
   "metadata": {},
   "outputs": [],
   "source": [
    "historical.attrs['Prepared by'] = 'D. Jones'\n",
    "historical.attrs['Institute'] = 'British Antarctic Survey'\n",
    "historical.attrs['Units'] = 'ppmv'\n",
    "historical.attrs['Model Info'] = 'UK Earth System Model 1'\n",
    "historical.attrs['Description'] = 'Annual mean ozone profiles from historical experiment'\n",
    "historical.attrs['Years covered'] = '2004-2014'\n",
    "\n",
    "ssp126.attrs['Prepared by'] = 'D. Jones'\n",
    "ssp126.attrs['Institute'] = 'British Antarctic Survey'\n",
    "ssp126.attrs['Units'] = 'ppmv'\n",
    "ssp126.attrs['Model Info'] = 'UK Earth System Model 1'\n",
    "ssp126.attrs['Description'] = 'Annual mean ozone profiles from ssp126 experiment (strong emissions reductions)'\n",
    "ssp126.attrs['Years covered'] = '2090-2100'\n",
    "\n",
    "ssp585.attrs['Prepared by'] = 'D. Jones'\n",
    "ssp585.attrs['Institute'] = 'British Antarctic Survey'\n",
    "ssp585.attrs['Units'] = 'ppmv'\n",
    "ssp585.attrs['Model Info'] = 'UK Earth System Model 1'\n",
    "ssp585.attrs['Description'] = 'Annual mean ozone profiles from ssp585 experiment (strong emissions reductions)'\n",
    "ssp585.attrs['Years covered'] = '2090-2100'\n"
   ]
  },
  {
   "cell_type": "markdown",
   "metadata": {},
   "source": [
    "### Save results to NetCDF files"
   ]
  },
  {
   "cell_type": "code",
   "execution_count": 27,
   "metadata": {},
   "outputs": [],
   "source": [
    "historical.load()\n",
    "historical.to_netcdf(path='./data_out/UKESM_O3_historical_v2.nc')\n",
    "ssp126.load()\n",
    "ssp126.to_netcdf(path='./data_out/UKESM_O3_ssp126_v2.nc')\n",
    "ssp585.load()\n",
    "ssp585.to_netcdf(path='./data_out/UKESM_O3_ssp585_v2.nc')"
   ]
  },
  {
   "cell_type": "markdown",
   "metadata": {},
   "source": [
    "### Create merged dataset, save to single NetCDF file"
   ]
  },
  {
   "cell_type": "code",
   "execution_count": 28,
   "metadata": {},
   "outputs": [],
   "source": [
    "merged = xr.concat([historical,ssp126,ssp585],dim='year')\n",
    "merged.to_netcdf(path='./data_out/UKESM_O3_merged.nc')"
   ]
  }
 ],
 "metadata": {
  "kernelspec": {
   "display_name": "Python 3",
   "language": "python",
   "name": "python3"
  },
  "language_info": {
   "codemirror_mode": {
    "name": "ipython",
    "version": 3
   },
   "file_extension": ".py",
   "mimetype": "text/x-python",
   "name": "python",
   "nbconvert_exporter": "python",
   "pygments_lexer": "ipython3",
   "version": "3.8.6"
  }
 },
 "nbformat": 4,
 "nbformat_minor": 4
}
